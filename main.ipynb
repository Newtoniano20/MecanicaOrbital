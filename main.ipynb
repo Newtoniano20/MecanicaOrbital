{
 "cells": [
  {
   "cell_type": "markdown",
   "metadata": {},
   "source": [
    "### DATOS INICIALES"
   ]
  },
  {
   "cell_type": "code",
   "execution_count": 8,
   "metadata": {},
   "outputs": [],
   "source": [
    "import numpy as np\n",
    "import matplotlib.pyplot as plt"
   ]
  },
  {
   "cell_type": "code",
   "execution_count": 3,
   "metadata": {},
   "outputs": [],
   "source": [
    "# Definiciones Utiles\n",
    "AU = 1.496 * (10**(11)) #m\n",
    "KM = 1000 #m\n",
    "\n",
    "# Radios Orbitales\n",
    "RADIO_ORBITAL_SATURNO = 9.54 * AU\n",
    "RADIO_ORBITAL_JUPITER = 5.20 * AU\n",
    "RADIO_ORBITAL_TIERRA = 1.0 * AU\n",
    "\n",
    "# Radios\n",
    "RADIO_SATURNO = 58200 * KM\n",
    "RADIO_JUPITER = 71500 * KM\n",
    "RADIO_TIERRA = 6378 * KM\n",
    "\n",
    "# Parametros de Masa\n",
    "U_SATURNO = 3.79312 * (10**(16))\n",
    "U_JUPITER = 1.26687 * (10**(17))\n",
    "U_TIERRA = 3.986 * (10**(14))\n",
    "U_SOL = 1.32712 * (10**(20))\n",
    "\n",
    "Excentricidad_alrededor_sol_inicial = 1.1\n",
    "Radio_Perihelio_sol_inicial = 1.2 * AU\n",
    "\n",
    "Distancia_minima_con_saturno = 10**(5) * KM"
   ]
  },
  {
   "cell_type": "markdown",
   "metadata": {},
   "source": [
    "2a)"
   ]
  },
  {
   "cell_type": "code",
   "execution_count": 58,
   "metadata": {},
   "outputs": [
    {
     "name": "stdout",
     "output_type": "stream",
     "text": [
      "v_infinito_orbita_saturno: 8598.02447981144 m/s\n",
      "v_entrada_SOI_saturno: 16121.521213178852 m/s\n",
      "h_orbital_saturno: 7073285114004666.0 m/s\n",
      "anomalia_verdadera_en_saturno: 131.9863612057179\n",
      "v_sat_SOI_r: -10784.551068850345\n",
      "v_sat_SOI_o: 2340.127165583901\n"
     ]
    }
   ],
   "source": [
    "v_infinito_orbita_saturno = np.sqrt(((Excentricidad_alrededor_sol_inicial-1)*U_SOL)/Radio_Perihelio_sol_inicial)\n",
    "print(f\"v_infinito_orbita_saturno: {v_infinito_orbita_saturno} m/s\")\n",
    "v_entrada_SOI_saturno = np.sqrt(\n",
    "    (v_infinito_orbita_saturno**2)\n",
    "    + 2 * (U_SOL/RADIO_ORBITAL_SATURNO)\n",
    ")\n",
    "print(f\"v_entrada_SOI_saturno: {v_entrada_SOI_saturno} m/s\")\n",
    "\n",
    "h_orbital_saturno = np.sqrt(Radio_Perihelio_sol_inicial*(1+Excentricidad_alrededor_sol_inicial)*U_SOL)\n",
    "print(f\"h_orbital_saturno: {h_orbital_saturno} m/s\")\n",
    "\n",
    "anomalia_verdadera_en_saturno = np.rad2deg(np.arccos((h_orbital_saturno**2/(U_SOL*RADIO_ORBITAL_SATURNO) - 1)/Excentricidad_alrededor_sol_inicial))\n",
    "print(f\"anomalia_verdadera_en_saturno: {anomalia_verdadera_en_saturno}\")\n",
    "\n",
    "v_sat_SOI_r = v_entrada_SOI_saturno * np.cos(np.deg2rad(anomalia_verdadera_en_saturno))\n",
    "v_sat_SOI_o = v_entrada_SOI_saturno * np.sin(np.deg2rad(anomalia_verdadera_en_saturno))\n",
    "\n",
    "VELOCIDAD_ORBITAL_SATURNO = np.sqrt(U_SOL/RADIO_ORBITAL_SATURNO)\n",
    "\n",
    "v_sat_SOI_o -= VELOCIDAD_ORBITAL_SATURNO\n",
    "print(f\"v_sat_SOI_r: {v_sat_SOI_r}\")\n",
    "print(f\"v_sat_SOI_o: {v_sat_SOI_o}\")"
   ]
  },
  {
   "cell_type": "code",
   "execution_count": null,
   "metadata": {},
   "outputs": [],
   "source": []
  }
 ],
 "metadata": {
  "kernelspec": {
   "display_name": "Python 3",
   "language": "python",
   "name": "python3"
  },
  "language_info": {
   "codemirror_mode": {
    "name": "ipython",
    "version": 3
   },
   "file_extension": ".py",
   "mimetype": "text/x-python",
   "name": "python",
   "nbconvert_exporter": "python",
   "pygments_lexer": "ipython3",
   "version": "3.11.6"
  }
 },
 "nbformat": 4,
 "nbformat_minor": 2
}
